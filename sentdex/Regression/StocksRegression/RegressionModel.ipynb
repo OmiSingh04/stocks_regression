{
 "cells": [
  {
   "cell_type": "code",
   "execution_count": 6,
   "metadata": {},
   "outputs": [],
   "source": [
    "import math\n",
    "import datetime, matplotlib.pyplot as plt\n",
    "from matplotlib import style\n",
    "import pandas as pd\n",
    "import numpy as np#numpy got arrays, python dont. very bad\n",
    "#preprocessing : scaling your features, to get them between -1 and +1 :c hmmmmmmmmm\n",
    "#cross_validation : create the training and testing data\n",
    "#svm support vector machine : doing regression"
   ]
  },
  {
   "cell_type": "code",
   "execution_count": 9,
   "metadata": {},
   "outputs": [
    {
     "data": {
      "text/plain": [
       "3424"
      ]
     },
     "execution_count": 9,
     "metadata": {},
     "output_type": "execute_result"
    }
   ],
   "source": [
    "df = pd.read_csv('stocks.csv')\n",
    "dates_column = df['Date']\n",
    "df = df.drop(columns = ['Date','Open','High','Low','Close','Volume', 'Ex-Dividend', 'Split_Ratio'])\n",
    "style.use('ggplot')\n",
    "df['high_low_pct'] = (df['Adj. High'] - df['Adj. Low']) / df['Adj. Low'] * 100.0\n",
    "df['open_close_pct'] = (df['Adj. Close'] - df['Adj. Open']) / df['Adj. Open'] * 100.0\n",
    "\n",
    "df = df.drop(columns = ['Adj. Open', 'Adj. High', 'Adj. Low'])\n",
    "forecast_column = 'Adj. Close'\n",
    "\n",
    "df.fillna(-9999, inplace = True) #this will fill up the NaN values in the dataframe, and the model will treat this as the outlier, meaning abnormal data\n",
    "#inplace = True meaning the object itself changes, and not returning a new object with the changes\n",
    "\n",
    "forecast_out = int(math.ceil(0.01*len(df)))\n",
    "# we are going to use this as the testing data\n",
    "\n",
    "df['label'] = df[forecast_column].shift(-forecast_out)\n",
    "#well, the last few forcast_out columns will be put as NaN...meaning they are empty, they are the ones we want to predict.\n",
    "len(df)"
   ]
  },
  {
   "cell_type": "code",
   "execution_count": 13,
   "metadata": {},
   "outputs": [
    {
     "data": {
      "text/plain": [
       "array([[ 5.03228418e+01,  4.46590000e+07,  8.44101709e+00,\n",
       "         3.24967503e-01],\n",
       "       [ 5.43226889e+01,  2.28343000e+07,  8.53731343e+00,\n",
       "         7.22700723e+00],\n",
       "       [ 5.48693765e+01,  1.82561000e+07,  4.06235672e+00,\n",
       "        -1.22788010e+00],\n",
       "       ...,\n",
       "       [ 1.18159000e+03,  2.77496700e+06,  1.54700007e+00,\n",
       "         4.76194525e-01],\n",
       "       [ 1.11920000e+03,  5.79888000e+06,  1.81160398e+00,\n",
       "        -7.29098295e-01],\n",
       "       [ 1.06876000e+03,  3.74246900e+06,  5.51223574e+00,\n",
       "        -2.89384977e+00]])"
      ]
     },
     "execution_count": 13,
     "metadata": {},
     "output_type": "execute_result"
    }
   ],
   "source": [
    "#now the splitting of data\n",
    "#use X for features, y for labels\n",
    "\n",
    "df.dropna(inplace = True)\n",
    "X = np.array(df.drop(columns = ['label']))\n",
    "\n",
    "X_lately = X[-forecast_out:]#this is the last thirty days of data that we would like to predict\n",
    "\n",
    "y = np.array(df['label'])\n",
    "X\n",
    "#df.dropna(inplace = True)"
   ]
  },
  {
   "cell_type": "code",
   "execution_count": 10,
   "metadata": {},
   "outputs": [
    {
     "data": {
      "text/plain": [
       "0.9766261255142611"
      ]
     },
     "execution_count": 10,
     "metadata": {},
     "output_type": "execute_result"
    }
   ],
   "source": [
    "X_train, X_test, y_train, y_test = model_selection.train_test_split(X, y, test_size = 0.2)\n",
    "\n",
    "clf = LinearRegression()\n",
    "clf.fit(X_train, y_train)# the training data is given the the model\n",
    "confidence = clf.score(X_test, y_test)#testing the accuracy with the testing data\n",
    "confidence"
   ]
  },
  {
   "cell_type": "code",
   "execution_count": null,
   "metadata": {},
   "outputs": [],
   "source": []
  }
 ],
 "metadata": {
  "kernelspec": {
   "display_name": "Python 3",
   "language": "python",
   "name": "python3"
  },
  "language_info": {
   "codemirror_mode": {
    "name": "ipython",
    "version": 3
   },
   "file_extension": ".py",
   "mimetype": "text/x-python",
   "name": "python",
   "nbconvert_exporter": "python",
   "pygments_lexer": "ipython3",
   "version": "3.8.5"
  }
 },
 "nbformat": 4,
 "nbformat_minor": 4
}
