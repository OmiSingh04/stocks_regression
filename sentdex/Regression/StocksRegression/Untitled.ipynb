{
 "cells": [
  {
   "cell_type": "code",
   "execution_count": 29,
   "metadata": {},
   "outputs": [],
   "source": [
    "import pandas as pd"
   ]
  },
  {
   "cell_type": "code",
   "execution_count": 30,
   "metadata": {},
   "outputs": [],
   "source": [
    "df = pd.read_csv('stocks.csv')\n",
    "df.head(10)\n",
    "#removing the unnecessary part from the data\n",
    "df.drop(columns = ['Open','High','Low','Close','Date','Ex-Dividend','Split_Ratio','Volume'], inplace = True)"
   ]
  },
  {
   "cell_type": "code",
   "execution_count": 31,
   "metadata": {},
   "outputs": [],
   "source": [
    "\n",
    "#combining the open and close to form the open_close_change and high_low_change\n",
    "df['open_close'] = (df['Adj. Close'] - df['Adj. Open']) / df['Adj. Open'] * 100.0\n",
    "df['high_low'] = (df['Adj. High'] - df['Adj. Low']) / df['Adj. Low'] * 100.0\n",
    "\n",
    "df.drop(columns = ['Adj. Close','Adj. High','Adj. Low'], inplace = True)#we will be predicting the open values, so we keep that"
   ]
  },
  {
   "cell_type": "code",
   "execution_count": 32,
   "metadata": {},
   "outputs": [],
   "source": [
    "#defining the X and the y\n",
    "#step 1: creating the labels with the predicts of 0.01 percent of the "
   ]
  },
  {
   "cell_type": "code",
   "execution_count": 33,
   "metadata": {},
   "outputs": [
    {
     "data": {
      "text/html": [
       "<div>\n",
       "<style scoped>\n",
       "    .dataframe tbody tr th:only-of-type {\n",
       "        vertical-align: middle;\n",
       "    }\n",
       "\n",
       "    .dataframe tbody tr th {\n",
       "        vertical-align: top;\n",
       "    }\n",
       "\n",
       "    .dataframe thead th {\n",
       "        text-align: right;\n",
       "    }\n",
       "</style>\n",
       "<table border=\"1\" class=\"dataframe\">\n",
       "  <thead>\n",
       "    <tr style=\"text-align: right;\">\n",
       "      <th></th>\n",
       "      <th>Adj. Open</th>\n",
       "      <th>Adj. Volume</th>\n",
       "      <th>open_close</th>\n",
       "      <th>high_low</th>\n",
       "    </tr>\n",
       "  </thead>\n",
       "  <tbody>\n",
       "    <tr>\n",
       "      <th>0</th>\n",
       "      <td>50.159839</td>\n",
       "      <td>44659000.0</td>\n",
       "      <td>0.324968</td>\n",
       "      <td>8.441017</td>\n",
       "    </tr>\n",
       "    <tr>\n",
       "      <th>1</th>\n",
       "      <td>50.661387</td>\n",
       "      <td>22834300.0</td>\n",
       "      <td>7.227007</td>\n",
       "      <td>8.537313</td>\n",
       "    </tr>\n",
       "    <tr>\n",
       "      <th>2</th>\n",
       "      <td>55.551482</td>\n",
       "      <td>18256100.0</td>\n",
       "      <td>-1.227880</td>\n",
       "      <td>4.062357</td>\n",
       "    </tr>\n",
       "    <tr>\n",
       "      <th>3</th>\n",
       "      <td>55.792225</td>\n",
       "      <td>15247300.0</td>\n",
       "      <td>-5.726357</td>\n",
       "      <td>7.753210</td>\n",
       "    </tr>\n",
       "    <tr>\n",
       "      <th>4</th>\n",
       "      <td>52.542193</td>\n",
       "      <td>9188600.0</td>\n",
       "      <td>1.183658</td>\n",
       "      <td>3.966115</td>\n",
       "    </tr>\n",
       "    <tr>\n",
       "      <th>5</th>\n",
       "      <td>52.637487</td>\n",
       "      <td>7094800.0</td>\n",
       "      <td>2.820391</td>\n",
       "      <td>3.143512</td>\n",
       "    </tr>\n",
       "    <tr>\n",
       "      <th>6</th>\n",
       "      <td>54.217364</td>\n",
       "      <td>6211700.0</td>\n",
       "      <td>-1.803885</td>\n",
       "      <td>2.772258</td>\n",
       "    </tr>\n",
       "    <tr>\n",
       "      <th>7</th>\n",
       "      <td>52.802998</td>\n",
       "      <td>5196700.0</td>\n",
       "      <td>-3.106003</td>\n",
       "      <td>3.411430</td>\n",
       "    </tr>\n",
       "    <tr>\n",
       "      <th>8</th>\n",
       "      <td>51.318415</td>\n",
       "      <td>4917800.0</td>\n",
       "      <td>0.048866</td>\n",
       "      <td>1.517228</td>\n",
       "    </tr>\n",
       "    <tr>\n",
       "      <th>9</th>\n",
       "      <td>51.509003</td>\n",
       "      <td>9138200.0</td>\n",
       "      <td>-2.385589</td>\n",
       "      <td>3.310926</td>\n",
       "    </tr>\n",
       "  </tbody>\n",
       "</table>\n",
       "</div>"
      ],
      "text/plain": [
       "   Adj. Open  Adj. Volume  open_close  high_low\n",
       "0  50.159839   44659000.0    0.324968  8.441017\n",
       "1  50.661387   22834300.0    7.227007  8.537313\n",
       "2  55.551482   18256100.0   -1.227880  4.062357\n",
       "3  55.792225   15247300.0   -5.726357  7.753210\n",
       "4  52.542193    9188600.0    1.183658  3.966115\n",
       "5  52.637487    7094800.0    2.820391  3.143512\n",
       "6  54.217364    6211700.0   -1.803885  2.772258\n",
       "7  52.802998    5196700.0   -3.106003  3.411430\n",
       "8  51.318415    4917800.0    0.048866  1.517228\n",
       "9  51.509003    9138200.0   -2.385589  3.310926"
      ]
     },
     "execution_count": 33,
     "metadata": {},
     "output_type": "execute_result"
    }
   ],
   "source": [
    "df.head(10)"
   ]
  },
  {
   "cell_type": "code",
   "execution_count": null,
   "metadata": {},
   "outputs": [],
   "source": []
  }
 ],
 "metadata": {
  "kernelspec": {
   "display_name": "Python 3",
   "language": "python",
   "name": "python3"
  },
  "language_info": {
   "codemirror_mode": {
    "name": "ipython",
    "version": 3
   },
   "file_extension": ".py",
   "mimetype": "text/x-python",
   "name": "python",
   "nbconvert_exporter": "python",
   "pygments_lexer": "ipython3",
   "version": "3.8.5"
  }
 },
 "nbformat": 4,
 "nbformat_minor": 4
}
