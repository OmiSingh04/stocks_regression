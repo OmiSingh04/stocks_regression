{
 "cells": [
  {
   "cell_type": "code",
   "execution_count": 81,
   "metadata": {},
   "outputs": [],
   "source": [
    "import pandas as pd\n",
    "import numpy as np\n",
    "import math\n",
    "from sklearn.linear_model import LinearRegression\n",
    "from sklearn import preprocessing, model_selection, svm"
   ]
  },
  {
   "cell_type": "code",
   "execution_count": 82,
   "metadata": {},
   "outputs": [],
   "source": [
    "df = pd.read_csv('stocks.csv')\n",
    "df.drop(['Date','Open','High','Low','Close','Volume','Ex-Dividend','Split Ratio'], axis = 1, inplace = True)"
   ]
  },
  {
   "cell_type": "code",
   "execution_count": 83,
   "metadata": {},
   "outputs": [],
   "source": [
    "df['High Low'] = df['Adj. High'] - df['Adj. Low']\n",
    "df['Open Close'] = df['Adj. Open'] - df['Adj. Close']\n",
    "\n",
    "df.drop(['Adj. High' , 'Adj. Low', 'Adj. Close'], axis = 1, inplace = True)"
   ]
  },
  {
   "cell_type": "code",
   "execution_count": 84,
   "metadata": {},
   "outputs": [],
   "source": [
    "df = df[['High Low', 'Open Close' , 'Adj. Volume' , 'Adj. Open']]\n",
    "#we try to predict the Adj. Open"
   ]
  },
  {
   "cell_type": "code",
   "execution_count": 85,
   "metadata": {},
   "outputs": [],
   "source": [
    "#dataframe is ready :)\n",
    "df.dropna(inplace = True)"
   ]
  },
  {
   "cell_type": "code",
   "execution_count": 86,
   "metadata": {},
   "outputs": [
    {
     "data": {
      "text/html": [
       "<div>\n",
       "<style scoped>\n",
       "    .dataframe tbody tr th:only-of-type {\n",
       "        vertical-align: middle;\n",
       "    }\n",
       "\n",
       "    .dataframe tbody tr th {\n",
       "        vertical-align: top;\n",
       "    }\n",
       "\n",
       "    .dataframe thead th {\n",
       "        text-align: right;\n",
       "    }\n",
       "</style>\n",
       "<table border=\"1\" class=\"dataframe\">\n",
       "  <thead>\n",
       "    <tr style=\"text-align: right;\">\n",
       "      <th></th>\n",
       "      <th>High Low</th>\n",
       "      <th>Open Close</th>\n",
       "      <th>Adj. Volume</th>\n",
       "      <th>Adj. Open</th>\n",
       "      <th>label</th>\n",
       "    </tr>\n",
       "  </thead>\n",
       "  <tbody>\n",
       "    <tr>\n",
       "      <th>3384</th>\n",
       "      <td>13.42</td>\n",
       "      <td>0.35</td>\n",
       "      <td>1792602.0</td>\n",
       "      <td>1177.72</td>\n",
       "      <td>1092.57</td>\n",
       "    </tr>\n",
       "    <tr>\n",
       "      <th>3385</th>\n",
       "      <td>14.22</td>\n",
       "      <td>1.59</td>\n",
       "      <td>1643877.0</td>\n",
       "      <td>1183.81</td>\n",
       "      <td>1080.01</td>\n",
       "    </tr>\n",
       "    <tr>\n",
       "      <th>3386</th>\n",
       "      <td>18.09</td>\n",
       "      <td>-5.60</td>\n",
       "      <td>2774967.0</td>\n",
       "      <td>1175.99</td>\n",
       "      <td>1051.37</td>\n",
       "    </tr>\n",
       "    <tr>\n",
       "      <th>3387</th>\n",
       "      <td>20.13</td>\n",
       "      <td>8.22</td>\n",
       "      <td>5798880.0</td>\n",
       "      <td>1127.42</td>\n",
       "      <td>1050.60</td>\n",
       "    </tr>\n",
       "    <tr>\n",
       "      <th>3388</th>\n",
       "      <td>58.25</td>\n",
       "      <td>31.85</td>\n",
       "      <td>3742469.0</td>\n",
       "      <td>1100.61</td>\n",
       "      <td>1063.90</td>\n",
       "    </tr>\n",
       "  </tbody>\n",
       "</table>\n",
       "</div>"
      ],
      "text/plain": [
       "      High Low  Open Close  Adj. Volume  Adj. Open    label\n",
       "3384     13.42        0.35    1792602.0    1177.72  1092.57\n",
       "3385     14.22        1.59    1643877.0    1183.81  1080.01\n",
       "3386     18.09       -5.60    2774967.0    1175.99  1051.37\n",
       "3387     20.13        8.22    5798880.0    1127.42  1050.60\n",
       "3388     58.25       31.85    3742469.0    1100.61  1063.90"
      ]
     },
     "execution_count": 86,
     "metadata": {},
     "output_type": "execute_result"
    }
   ],
   "source": [
    "forecast_out = int(math.ceil(0.01*len(df)))\n",
    "forecast_column = 'Adj. Open'\n",
    "df['label'] = df[forecast_column].shift(-forecast_out)#the one we forecast out is actually the future stocks\n",
    "#now THAT makes sense\n",
    "df.dropna(inplace = True)\n",
    "df.tail(5)\n",
    "\n",
    "#NOW WITH THIS, WE ARE READY TO ROLLL"
   ]
  },
  {
   "cell_type": "code",
   "execution_count": 97,
   "metadata": {},
   "outputs": [
    {
     "data": {
      "text/plain": [
       "'97%'"
      ]
     },
     "execution_count": 97,
     "metadata": {},
     "output_type": "execute_result"
    }
   ],
   "source": [
    "X = np.array(df.drop(columns = ['label'], axis = 1))\n",
    "y = np.array(df['label'])\n",
    "X_train, X_test, y_train, y_test = model_selection.train_test_split(X, y, test_size = 0.2)\n",
    "clf = LinearRegression()\n",
    "clf.fit(X_train, y_train)\n",
    "confidence = clf.score(X_test, y_test)\n",
    "str(math.floor(confidence*100)) + \"%\""
   ]
  },
  {
   "cell_type": "code",
   "execution_count": null,
   "metadata": {},
   "outputs": [],
   "source": []
  }
 ],
 "metadata": {
  "kernelspec": {
   "display_name": "Python 3",
   "language": "python",
   "name": "python3"
  },
  "language_info": {
   "codemirror_mode": {
    "name": "ipython",
    "version": 3
   },
   "file_extension": ".py",
   "mimetype": "text/x-python",
   "name": "python",
   "nbconvert_exporter": "python",
   "pygments_lexer": "ipython3",
   "version": "3.8.5"
  }
 },
 "nbformat": 4,
 "nbformat_minor": 4
}
